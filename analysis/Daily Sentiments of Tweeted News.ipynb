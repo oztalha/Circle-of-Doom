{
 "cells": [
  {
   "cell_type": "code",
   "execution_count": null,
   "metadata": {
    "collapsed": false
   },
   "outputs": [
    {
     "name": "stdout",
     "output_type": "stream",
     "text": [
      "Downloading mathjax source from https://github.com/mathjax/MathJax/archive/2.4.0.tar.gz\n",
      "Extracting to /Users/toz/.ipython/nbextensions/mathjax"
     ]
    }
   ],
   "source": [
    "from IPython.external import mathjax;\n",
    "mathjax.install_mathjax()\n",
    "\n",
    "import pandas as pd\n",
    "import numpy as np\n",
    "\n",
    "import seaborn as sns\n",
    "import matplotlib.pyplot as plt\n",
    "%matplotlib inline\n",
    "plt.style.use('ggplot')"
   ]
  },
  {
   "cell_type": "code",
   "execution_count": 4,
   "metadata": {
    "collapsed": false
   },
   "outputs": [
    {
     "name": "stdout",
     "output_type": "stream",
     "text": [
      "C:\\Users\\Talha\\Documents\\WinPython3\\projects\\cnnyt\n"
     ]
    }
   ],
   "source": [
    "cd ../"
   ]
  },
  {
   "cell_type": "code",
   "execution_count": 56,
   "metadata": {
    "collapsed": false
   },
   "outputs": [],
   "source": [
    "# Read the datasets\n",
    "outlets = \"ABC NBCNews CBSNews FoxNews AP WPOST\".split()\n",
    "dfs = [pd.read_csv('data/'+outlet+'-news.csv') for outlet in outlets]"
   ]
  },
  {
   "cell_type": "code",
   "execution_count": 57,
   "metadata": {
    "collapsed": false
   },
   "outputs": [],
   "source": [
    "#unify the datasets\n",
    "df = pd.DataFrame(columns=dfs[0].columns)\n",
    "for i,df2 in enumerate(dfs):\n",
    "    df2['outlet'] = outlets[i]\n",
    "    df = df.append(df2)"
   ]
  },
  {
   "cell_type": "code",
   "execution_count": 58,
   "metadata": {
    "collapsed": false
   },
   "outputs": [
    {
     "data": {
      "text/plain": [
       "Index(['fname', 'dt', 'title', 'href', 'newstxt', 'outlet'], dtype='object')"
      ]
     },
     "execution_count": 58,
     "metadata": {},
     "output_type": "execute_result"
    }
   ],
   "source": [
    "#calculate the sentiments of the tweeted news\n",
    "dfs[0].columns"
   ]
  },
  {
   "cell_type": "code",
   "execution_count": 59,
   "metadata": {
    "collapsed": false
   },
   "outputs": [
    {
     "data": {
      "text/plain": [
       "(12586, 6)"
      ]
     },
     "execution_count": 59,
     "metadata": {},
     "output_type": "execute_result"
    }
   ],
   "source": [
    "df.shape"
   ]
  },
  {
   "cell_type": "code",
   "execution_count": 61,
   "metadata": {
    "collapsed": false
   },
   "outputs": [
    {
     "data": {
      "text/html": [
       "<div style=\"max-height:1000px;max-width:1500px;overflow:auto;\">\n",
       "<table border=\"1\" class=\"dataframe\">\n",
       "  <thead>\n",
       "    <tr style=\"text-align: right;\">\n",
       "      <th></th>\n",
       "      <th>dt</th>\n",
       "      <th>fname</th>\n",
       "      <th>href</th>\n",
       "      <th>newstxt</th>\n",
       "      <th>outlet</th>\n",
       "      <th>title</th>\n",
       "    </tr>\n",
       "  </thead>\n",
       "  <tbody>\n",
       "    <tr>\n",
       "      <th>0</th>\n",
       "      <td>2015-01-28 00:00:00</td>\n",
       "      <td>15Io0P8</td>\n",
       "      <td>http://abcnews.go.com/Technology/nasa-photos-s...</td>\n",
       "      <td>As the Northeast digs out from a wild winter s...</td>\n",
       "      <td>ABC</td>\n",
       "      <td>Blizzard 2015: NASA Photos Show Scope of Winte...</td>\n",
       "    </tr>\n",
       "    <tr>\n",
       "      <th>1</th>\n",
       "      <td>2015-01-27 00:00:00</td>\n",
       "      <td>15JlKXr</td>\n",
       "      <td>http://abcnews.go.com/International/russia-evi...</td>\n",
       "      <td>Russia has rejected accusations that one of it...</td>\n",
       "      <td>ABC</td>\n",
       "      <td>Russia Says 'No Evidence' of NYC Spying, Despi...</td>\n",
       "    </tr>\n",
       "    <tr>\n",
       "      <th>2</th>\n",
       "      <td>2015-01-29 00:00:00</td>\n",
       "      <td>15JQAzy</td>\n",
       "      <td>http://abcnews.go.com/Health/common-counter-me...</td>\n",
       "      <td>Common over-the-counter drugs such as Benadryl...</td>\n",
       "      <td>ABC</td>\n",
       "      <td>Common Over-the-Counter Medicines Linked to De...</td>\n",
       "    </tr>\n",
       "    <tr>\n",
       "      <th>3</th>\n",
       "      <td>2015-02-01 00:00:00</td>\n",
       "      <td>15NFjxR</td>\n",
       "      <td>http://abcnews.go.com/Sports/super-bowl-xlix-f...</td>\n",
       "      <td>Super Bowl XLIX between the New England Patrio...</td>\n",
       "      <td>ABC</td>\n",
       "      <td>Super Bowl 2015: Facts and Figures Ahead of th...</td>\n",
       "    </tr>\n",
       "    <tr>\n",
       "      <th>4</th>\n",
       "      <td>2015-01-27 00:00:00</td>\n",
       "      <td>15P0Qaz</td>\n",
       "      <td>http://abcnews.go.com/International/isis-hosta...</td>\n",
       "      <td>In a chilling new video from the terror group ...</td>\n",
       "      <td>ABC</td>\n",
       "      <td>ISIS Hostage Says He'll Be Killed Within 24 Ho...</td>\n",
       "    </tr>\n",
       "  </tbody>\n",
       "</table>\n",
       "</div>"
      ],
      "text/plain": [
       "                    dt    fname  \\\n",
       "0  2015-01-28 00:00:00  15Io0P8   \n",
       "1  2015-01-27 00:00:00  15JlKXr   \n",
       "2  2015-01-29 00:00:00  15JQAzy   \n",
       "3  2015-02-01 00:00:00  15NFjxR   \n",
       "4  2015-01-27 00:00:00  15P0Qaz   \n",
       "\n",
       "                                                href  \\\n",
       "0  http://abcnews.go.com/Technology/nasa-photos-s...   \n",
       "1  http://abcnews.go.com/International/russia-evi...   \n",
       "2  http://abcnews.go.com/Health/common-counter-me...   \n",
       "3  http://abcnews.go.com/Sports/super-bowl-xlix-f...   \n",
       "4  http://abcnews.go.com/International/isis-hosta...   \n",
       "\n",
       "                                             newstxt outlet  \\\n",
       "0  As the Northeast digs out from a wild winter s...    ABC   \n",
       "1  Russia has rejected accusations that one of it...    ABC   \n",
       "2  Common over-the-counter drugs such as Benadryl...    ABC   \n",
       "3  Super Bowl XLIX between the New England Patrio...    ABC   \n",
       "4  In a chilling new video from the terror group ...    ABC   \n",
       "\n",
       "                                               title  \n",
       "0  Blizzard 2015: NASA Photos Show Scope of Winte...  \n",
       "1  Russia Says 'No Evidence' of NYC Spying, Despi...  \n",
       "2  Common Over-the-Counter Medicines Linked to De...  \n",
       "3  Super Bowl 2015: Facts and Figures Ahead of th...  \n",
       "4  ISIS Hostage Says He'll Be Killed Within 24 Ho...  "
      ]
     },
     "execution_count": 61,
     "metadata": {},
     "output_type": "execute_result"
    }
   ],
   "source": [
    "#sns.distplot(d, hist=False, color=\"g\", kde_kws={\"shade\": True})\n",
    "df.head()"
   ]
  },
  {
   "cell_type": "code",
   "execution_count": 78,
   "metadata": {
    "collapsed": false
   },
   "outputs": [],
   "source": [
    "import textblob as tb\n",
    "df = df.fillna('')\n",
    "blob = df.newstxt.apply(tb.TextBlob)\n",
    "df['sp'] = blob.apply(lambda x: x.sentiment.polarity)"
   ]
  },
  {
   "cell_type": "code",
   "execution_count": 80,
   "metadata": {
    "collapsed": false
   },
   "outputs": [],
   "source": [
    "tws = [pd.read_csv('data/tweets/'+outlet+'.csv') for outlet in outlets]"
   ]
  },
  {
   "cell_type": "code",
   "execution_count": 84,
   "metadata": {
    "collapsed": false
   },
   "outputs": [],
   "source": [
    "tw = pd.DataFrame(columns=tws[0].columns)\n",
    "for i,df2 in enumerate(tws):\n",
    "    df2['outlet'] = outlets[i]\n",
    "    tw = tw.append(df2)"
   ]
  },
  {
   "cell_type": "code",
   "execution_count": 95,
   "metadata": {
    "collapsed": false
   },
   "outputs": [
    {
     "data": {
      "text/plain": [
       "(19199, 7)"
      ]
     },
     "execution_count": 95,
     "metadata": {},
     "output_type": "execute_result"
    }
   ],
   "source": [
    "tw.shape"
   ]
  },
  {
   "cell_type": "code",
   "execution_count": 127,
   "metadata": {
    "collapsed": false
   },
   "outputs": [],
   "source": [
    "tw = tw.fillna('')\n",
    "tw['url']=tw['url'].str.rstrip('/')\n",
    "tw['fname']=tw.apply(lambda x: x.url.split('/')[-1],axis=1)"
   ]
  },
  {
   "cell_type": "code",
   "execution_count": 143,
   "metadata": {
    "collapsed": false
   },
   "outputs": [],
   "source": [
    "m1 = tw.merge(df,on=['fname','outlet'],how='inner')\n",
    "m1 = m1.drop_duplicates(subset=['fname','outlet'])"
   ]
  },
  {
   "cell_type": "code",
   "execution_count": 146,
   "metadata": {
    "collapsed": false
   },
   "outputs": [],
   "source": [
    "m1.to_csv('data/outlets6.csv',index=False)"
   ]
  },
  {
   "cell_type": "code",
   "execution_count": 164,
   "metadata": {
    "collapsed": false
   },
   "outputs": [],
   "source": [
    "cnnyt = pd.read_csv('data/all-sentipol.csv')\n",
    "cnnyt = cnnyt.rename(columns={'spnews':'sp','src':'outlet'})\n",
    "cnnyt = cnnyt.dropna(subset=['newstxt'])"
   ]
  },
  {
   "cell_type": "code",
   "execution_count": 165,
   "metadata": {
    "collapsed": false
   },
   "outputs": [
    {
     "data": {
      "text/plain": [
       "Index(['cat', 'dt', 'fav', 'href', 'newstxt', 'sp', 'rt', 'outlet', 'title', 'tweep', 'twtext', 'url', 'sptw', 'sptitle'], dtype='object')"
      ]
     },
     "execution_count": 165,
     "metadata": {},
     "output_type": "execute_result"
    }
   ],
   "source": [
    "cnnyt.columns"
   ]
  },
  {
   "cell_type": "code",
   "execution_count": 167,
   "metadata": {
    "collapsed": false
   },
   "outputs": [],
   "source": [
    "#keep dt,href,outlet,rt,fav,sp\n",
    "cols = ['dt','outlet','rt','fav','sp','href']\n",
    "m2 = m1[cols].append(cnnyt[cols])"
   ]
  },
  {
   "cell_type": "code",
   "execution_count": 170,
   "metadata": {
    "collapsed": false
   },
   "outputs": [],
   "source": [
    "m2.to_csv('data/tw-sp.csv',index=False)"
   ]
  }
 ],
 "metadata": {
  "kernelspec": {
   "display_name": "Python 3",
   "language": "python",
   "name": "python3"
  },
  "language_info": {
   "codemirror_mode": {
    "name": "ipython",
    "version": 3
   },
   "file_extension": ".py",
   "mimetype": "text/x-python",
   "name": "python",
   "nbconvert_exporter": "python",
   "pygments_lexer": "ipython3",
   "version": "3.4.2"
  }
 },
 "nbformat": 4,
 "nbformat_minor": 0
}

{
 "metadata": {
  "name": "",
  "signature": "sha256:cb443aba27ddf0ee1af263b6aa7479f466670a700a1e81d5729084873e09faf8"
 },
 "nbformat": 3,
 "nbformat_minor": 0,
 "worksheets": [
  {
   "cells": [
    {
     "cell_type": "markdown",
     "metadata": {},
     "source": [
      "# News Analysis\n",
      "\n",
      "This NB merges tweet IDs with the news content and calculates their sentiment polarities and saves to `pol.csv` files.\n",
      "\n",
      "1. Downloaded htmls from URLs in tweets:  `nohup sh -c \"cat urls_cnn.csv | xargs -n 1 -P 10 wget \" &`\n",
      "2. Parsed htmls to extract news content: `scrapers/parse_htmls.py`\n",
      "3. Matched shortened URLs in tweets with canonical URLs via wget filenaming convention trick: `combine() in scrapers/parse_htmls.py`\n",
      "\n",
      "Every news is not equal, so filtered out special news pages:\n",
      "* For NYT, removed news whose content cannot be extracted with the default parser.\n",
      "* For CNN, removed video pages, and again applied the single parser method to keep all regular news, excluding money pages (i.e. used another parser for money pages)."
     ]
    },
    {
     "cell_type": "code",
     "collapsed": false,
     "input": [
      "%cd ../"
     ],
     "language": "python",
     "metadata": {},
     "outputs": [
      {
       "output_type": "stream",
       "stream": "stdout",
       "text": [
        "/Users/toz/Documents/workspace/Circle-of-Doom\n"
       ]
      }
     ],
     "prompt_number": 2
    },
    {
     "cell_type": "code",
     "collapsed": false,
     "input": [
      "import pandas as pd\n",
      "from IPython.display import HTML"
     ],
     "language": "python",
     "metadata": {},
     "outputs": [],
     "prompt_number": 18
    },
    {
     "cell_type": "markdown",
     "metadata": {},
     "source": [
      "#NYT"
     ]
    },
    {
     "cell_type": "code",
     "collapsed": false,
     "input": [
      "# Number of news and number of regular news\n",
      "nyt = pd.read_csv('data/NYT-news.csv')\n",
      "print('Fields:',nyt.columns.values)\n",
      "print('Number of all news parsed:',nyt.title.count())\n",
      "print('Number of regular news:',nyt.newstxt.count())"
     ],
     "language": "python",
     "metadata": {},
     "outputs": [
      {
       "output_type": "stream",
       "stream": "stdout",
       "text": [
        "Fields: ['dt' 'title' 'href' 'newstxt']\n",
        "Number of all news parsed: 2491\n",
        "Number of regular news: 2100\n"
       ]
      }
     ],
     "prompt_number": 24
    },
    {
     "cell_type": "code",
     "collapsed": false,
     "input": [
      "# (twid , canonical-URL) pairs\n",
      "idurl = pd.read_csv('data/nyt-id-url.csv')\n",
      "idurl = idurl.drop_duplicates()\n",
      "print(idurl.columns.values)\n",
      "print('Number of unique pairs:',idurl.shape[0])\n",
      "print('Number of unique twIDs:',idurl.twid.nunique())\n",
      "print('Number of unique hrefs:',idurl.href.nunique())"
     ],
     "language": "python",
     "metadata": {},
     "outputs": [
      {
       "output_type": "stream",
       "stream": "stdout",
       "text": [
        "['twid' 'href']\n",
        "Number of unique pairs: 2559\n",
        "Number of unique twIDs: 2559\n",
        "Number of unique hrefs: 1454\n"
       ]
      }
     ],
     "prompt_number": 54
    },
    {
     "cell_type": "code",
     "collapsed": false,
     "input": [
      "merged = idurl.merge(nyt,on='href',how='inner').drop_duplicates()\n",
      "print('columns:',merged.columns.values)\n",
      "print('Number of rows:',merged.shape[0])\n",
      "print('# of unique twID:',merged.twid.nunique())\n",
      "print('# of unique hrefs:',merged.href.nunique())"
     ],
     "language": "python",
     "metadata": {},
     "outputs": [
      {
       "output_type": "stream",
       "stream": "stdout",
       "text": [
        "columns: ['twid' 'href' 'dt' 'title' 'newstxt']\n",
        "Number of rows: 2461\n",
        "# of unique twID: 2445\n",
        "# of unique hrefs: 1399\n"
       ]
      }
     ],
     "prompt_number": 55
    },
    {
     "cell_type": "code",
     "collapsed": false,
     "input": [
      "import textblob as tb\n",
      "df = merged\n",
      "df['newstxt'] = df.newstxt.astype(str)\n",
      "blobs = df.newstxt.apply(tb.TextBlob)\n",
      "df['polarity'] = blobs.apply(lambda x: x.sentiment.polarity)\n",
      "df.to_csv('data/nyt-pol.csv',encoding='utf-8',index=False)"
     ],
     "language": "python",
     "metadata": {},
     "outputs": [],
     "prompt_number": 56
    },
    {
     "cell_type": "code",
     "collapsed": false,
     "input": [
      "news = pd.read_csv('data/nyt-pol.csv',index_col='twid')\n",
      "tweets = pd.read_csv('data/NYT-tweets.csv',index_col='twid')\n",
      "print('news fields:',news.columns.values)\n",
      "print('tweet fields:',tweets.columns.values)"
     ],
     "language": "python",
     "metadata": {},
     "outputs": [
      {
       "output_type": "stream",
       "stream": "stdout",
       "text": [
        "news fields: ['href' 'dt' 'title' 'newstxt' 'polarity']\n",
        "tweet fields: ['tweep' 'twtext' 'fav' 'rt' 'url']\n"
       ]
      }
     ],
     "prompt_number": 71
    },
    {
     "cell_type": "code",
     "collapsed": false,
     "input": [
      "nytjoined = tweets.join(news,how='inner')\n",
      "nytjoined.shape"
     ],
     "language": "python",
     "metadata": {},
     "outputs": [
      {
       "metadata": {},
       "output_type": "pyout",
       "prompt_number": 72,
       "text": [
        "(2461, 10)"
       ]
      }
     ],
     "prompt_number": 72
    },
    {
     "cell_type": "code",
     "collapsed": false,
     "input": [
      "nytjoined.to_csv('data/nyt-joined.csv',encoding='utf-8',index=False)"
     ],
     "language": "python",
     "metadata": {},
     "outputs": [],
     "prompt_number": 73
    },
    {
     "cell_type": "markdown",
     "metadata": {},
     "source": [
      "#CNN"
     ]
    },
    {
     "cell_type": "code",
     "collapsed": false,
     "input": [
      "cnn = pd.read_csv('data/CNN-all.csv')\n",
      "print('Fields:',cnn.columns.values)\n",
      "print('Number of all news parsed:',cnn.title.count())\n",
      "print('Number of regular news:',cnn[(cnn.cat=='news')|(cnn.cat=='money')].newstxt.count())"
     ],
     "language": "python",
     "metadata": {},
     "outputs": [
      {
       "output_type": "stream",
       "stream": "stdout",
       "text": [
        "Fields: ['dt' 'title' 'href' 'newstxt' 'cat']\n",
        "Number of all news parsed: 1856\n",
        "Number of regular news: 1615\n"
       ]
      }
     ],
     "prompt_number": 34
    },
    {
     "cell_type": "code",
     "collapsed": false,
     "input": [
      "# number of successfully parsed URLs for each category\n",
      "for cat in cnn.cat.unique():\n",
      "    print(cat,cnn[cnn.cat==cat].newstxt.count())"
     ],
     "language": "python",
     "metadata": {},
     "outputs": [
      {
       "output_type": "stream",
       "stream": "stdout",
       "text": [
        "news 1358\n",
        "video 222\n",
        "money 257\n"
       ]
      }
     ],
     "prompt_number": 10
    },
    {
     "cell_type": "code",
     "collapsed": false,
     "input": [
      "# (twid , canonical-URL) pairs\n",
      "idurl = pd.read_csv('data/cnn-id-url.csv')\n",
      "idurl = idurl.drop_duplicates()\n",
      "print(idurl.columns.values)\n",
      "print('Number of unique pairs:',idurl.shape[0])\n",
      "print('Number of unique twIDs:',idurl.twid.nunique())\n",
      "print('Number of unique hrefs:',idurl.href.nunique())"
     ],
     "language": "python",
     "metadata": {},
     "outputs": [
      {
       "output_type": "stream",
       "stream": "stdout",
       "text": [
        "['twid' 'href']\n",
        "Number of unique pairs: 2357\n",
        "Number of unique twIDs: 2325\n",
        "Number of unique hrefs: 1596\n"
       ]
      }
     ],
     "prompt_number": 41
    },
    {
     "cell_type": "markdown",
     "metadata": {},
     "source": [
      "**Note:** `id-url.csv` files are output of `combine()` method in `scrapers/parse_htmls.py` script, generated by inner-joining on `filename` field (from `filename-url.csv`) with `url` field in `tweets.csv`."
     ]
    },
    {
     "cell_type": "code",
     "collapsed": false,
     "input": [
      "merged = idurl.merge(cnn,on='href',how='inner').drop_duplicates()\n",
      "print('columns:',merged.columns.values)\n",
      "print('Number of rows:',merged.shape[0])\n",
      "print('# of unique twID:',merged.twid.nunique())\n",
      "print('# of unique hrefs:',merged.href.nunique())"
     ],
     "language": "python",
     "metadata": {},
     "outputs": [
      {
       "output_type": "stream",
       "stream": "stdout",
       "text": [
        "columns: ['twid' 'href' 'dt' 'title' 'newstxt' 'cat']\n",
        "Number of rows: 1926\n",
        "# of unique twID: 1855\n",
        "# of unique hrefs: 1427\n"
       ]
      }
     ],
     "prompt_number": 49
    },
    {
     "cell_type": "code",
     "collapsed": false,
     "input": [
      "merged.head()"
     ],
     "language": "python",
     "metadata": {},
     "outputs": [
      {
       "html": [
        "<div style=\"max-height:1000px;max-width:1500px;overflow:auto;\">\n",
        "<table border=\"1\" class=\"dataframe\">\n",
        "  <thead>\n",
        "    <tr style=\"text-align: right;\">\n",
        "      <th></th>\n",
        "      <th>twid</th>\n",
        "      <th>href</th>\n",
        "      <th>dt</th>\n",
        "      <th>title</th>\n",
        "      <th>newstxt</th>\n",
        "      <th>cat</th>\n",
        "    </tr>\n",
        "  </thead>\n",
        "  <tbody>\n",
        "    <tr>\n",
        "      <th>0</th>\n",
        "      <td> 557372160025853952</td>\n",
        "      <td> http://www.cnn.com/videos/world/2015/01/19/eri...</td>\n",
        "      <td> 2015-01-19 18:20:00</td>\n",
        "      <td> Global protests against Charlie Hebdo magazine...</td>\n",
        "      <td> The Islamic world protests Charlie Hebdo's fir...</td>\n",
        "      <td> video</td>\n",
        "    </tr>\n",
        "    <tr>\n",
        "      <th>1</th>\n",
        "      <td> 557744344661491714</td>\n",
        "      <td> http://www.cnn.com/2015/01/20/politics/who-is-...</td>\n",
        "      <td> 2015-01-20 12:11:00</td>\n",
        "      <td>                      Who is Joni Ernst? - CNN.com</td>\n",
        "      <td> Washington (CNN)It's probably no surprise that...</td>\n",
        "      <td>  news</td>\n",
        "    </tr>\n",
        "    <tr>\n",
        "      <th>3</th>\n",
        "      <td> 557737452346294274</td>\n",
        "      <td> http://www.cnn.com/2015/01/20/politics/who-is-...</td>\n",
        "      <td> 2015-01-20 12:11:00</td>\n",
        "      <td>                      Who is Joni Ernst? - CNN.com</td>\n",
        "      <td> Washington (CNN)It's probably no surprise that...</td>\n",
        "      <td>  news</td>\n",
        "    </tr>\n",
        "    <tr>\n",
        "      <th>5</th>\n",
        "      <td> 559420589962973184</td>\n",
        "      <td> http://www.cnn.com/2015/01/25/politics/rubio--...</td>\n",
        "      <td> 2015-01-25 12:29:00</td>\n",
        "      <td> The GOP field: Rubio and Palin's 2016 plans - ...</td>\n",
        "      <td> Washington (CNN)The 2016 calculations of three...</td>\n",
        "      <td>  news</td>\n",
        "    </tr>\n",
        "    <tr>\n",
        "      <th>6</th>\n",
        "      <td> 559395609447518208</td>\n",
        "      <td> http://www.cnn.com/2015/01/25/world/egypt-viol...</td>\n",
        "      <td> 2015-01-26 11:18:00</td>\n",
        "      <td> 16 dead in protests marking Egypt revolution -...</td>\n",
        "      <td> Cairo (CNN)A bleeding woman collapses on the g...</td>\n",
        "      <td>  news</td>\n",
        "    </tr>\n",
        "  </tbody>\n",
        "</table>\n",
        "</div>"
       ],
       "metadata": {},
       "output_type": "pyout",
       "prompt_number": 42,
       "text": [
        "                 twid                                               href  \\\n",
        "0  557372160025853952  http://www.cnn.com/videos/world/2015/01/19/eri...   \n",
        "1  557744344661491714  http://www.cnn.com/2015/01/20/politics/who-is-...   \n",
        "3  557737452346294274  http://www.cnn.com/2015/01/20/politics/who-is-...   \n",
        "5  559420589962973184  http://www.cnn.com/2015/01/25/politics/rubio--...   \n",
        "6  559395609447518208  http://www.cnn.com/2015/01/25/world/egypt-viol...   \n",
        "\n",
        "                    dt                                              title  \\\n",
        "0  2015-01-19 18:20:00  Global protests against Charlie Hebdo magazine...   \n",
        "1  2015-01-20 12:11:00                       Who is Joni Ernst? - CNN.com   \n",
        "3  2015-01-20 12:11:00                       Who is Joni Ernst? - CNN.com   \n",
        "5  2015-01-25 12:29:00  The GOP field: Rubio and Palin's 2016 plans - ...   \n",
        "6  2015-01-26 11:18:00  16 dead in protests marking Egypt revolution -...   \n",
        "\n",
        "                                             newstxt    cat  \n",
        "0  The Islamic world protests Charlie Hebdo's fir...  video  \n",
        "1  Washington (CNN)It's probably no surprise that...   news  \n",
        "3  Washington (CNN)It's probably no surprise that...   news  \n",
        "5  Washington (CNN)The 2016 calculations of three...   news  \n",
        "6  Cairo (CNN)A bleeding woman collapses on the g...   news  "
       ]
      }
     ],
     "prompt_number": 42
    },
    {
     "cell_type": "markdown",
     "metadata": {},
     "source": [
      "**Note**: There are different tweets with the same URL inside. E.g. see below two tweets (second top and third top tweets above)"
     ]
    },
    {
     "cell_type": "code",
     "collapsed": false,
     "input": [
      "HTML('<blockquote class=\"twitter-tweet\" lang=\"en\"><p>Sen. Joni Ernst of Iowa is set to give the Republican response to the President&#39;s <a href=\"https://twitter.com/hashtag/CNNSOTU?src=hash\">#CNNSOTU</a>. <a href=\"http://t.co/PXWVbNsWXp\">http://t.co/PXWVbNsWXp</a></p>&mdash; CNN Breaking News (@cnnbrk) <a href=\"https://twitter.com/cnnbrk/status/557737268488974338\">January 21, 2015</a></blockquote><script async src=\"//platform.twitter.com/widgets.js\" charset=\"utf-8\"></script>')"
     ],
     "language": "python",
     "metadata": {},
     "outputs": [
      {
       "html": [
        "<blockquote class=\"twitter-tweet\" lang=\"en\"><p>Sen. Joni Ernst of Iowa is set to give the Republican response to the President&#39;s <a href=\"https://twitter.com/hashtag/CNNSOTU?src=hash\">#CNNSOTU</a>. <a href=\"http://t.co/PXWVbNsWXp\">http://t.co/PXWVbNsWXp</a></p>&mdash; CNN Breaking News (@cnnbrk) <a href=\"https://twitter.com/cnnbrk/status/557737268488974338\">January 21, 2015</a></blockquote><script async src=\"//platform.twitter.com/widgets.js\" charset=\"utf-8\"></script>"
       ],
       "metadata": {},
       "output_type": "pyout",
       "prompt_number": 50,
       "text": [
        "<IPython.core.display.HTML at 0x1097603c8>"
       ]
      }
     ],
     "prompt_number": 50
    },
    {
     "cell_type": "code",
     "collapsed": false,
     "input": [
      "HTML('<blockquote class=\"twitter-tweet\" lang=\"en\"><p>Why it\u2019s no surprise GOP leaders picked <a href=\"https://twitter.com/joniernst\">@joniernst</a> to represent the party following <a href=\"https://twitter.com/hashtag/SOTU?src=hash\">#SOTU</a> <a href=\"http://t.co/MCvWRRvEI5\">http://t.co/MCvWRRvEI5</a> <a href=\"https://twitter.com/CNN\">@CNN</a> <a href=\"http://t.co/eFkszdSRUS\">pic.twitter.com/eFkszdSRUS</a></p>&mdash; OutFrontCNN (@OutFrontCNN) <a href=\"https://twitter.com/OutFrontCNN/status/557742034183000066\">January 21, 2015</a></blockquote><script async src=\"//platform.twitter.com/widgets.js\" charset=\"utf-8\"></script>')"
     ],
     "language": "python",
     "metadata": {},
     "outputs": [
      {
       "html": [
        "<blockquote class=\"twitter-tweet\" lang=\"en\"><p>Why it\u2019s no surprise GOP leaders picked <a href=\"https://twitter.com/joniernst\">@joniernst</a> to represent the party following <a href=\"https://twitter.com/hashtag/SOTU?src=hash\">#SOTU</a> <a href=\"http://t.co/MCvWRRvEI5\">http://t.co/MCvWRRvEI5</a> <a href=\"https://twitter.com/CNN\">@CNN</a> <a href=\"http://t.co/eFkszdSRUS\">pic.twitter.com/eFkszdSRUS</a></p>&mdash; OutFrontCNN (@OutFrontCNN) <a href=\"https://twitter.com/OutFrontCNN/status/557742034183000066\">January 21, 2015</a></blockquote><script async src=\"//platform.twitter.com/widgets.js\" charset=\"utf-8\"></script>"
       ],
       "metadata": {},
       "output_type": "pyout",
       "prompt_number": 51,
       "text": [
        "<IPython.core.display.HTML at 0x109760b70>"
       ]
      }
     ],
     "prompt_number": 51
    },
    {
     "cell_type": "code",
     "collapsed": false,
     "input": [
      "import textblob as tb\n",
      "df = merged\n",
      "df['newstxt'] = df.newstxt.astype(str)\n",
      "blobs = df.newstxt.apply(tb.TextBlob)\n",
      "df['polarity'] = blobs.apply(lambda x: x.sentiment.polarity)\n",
      "df.to_csv('data/cnn-pol.csv',encoding='utf-8',index=False)"
     ],
     "language": "python",
     "metadata": {},
     "outputs": [],
     "prompt_number": 53
    },
    {
     "cell_type": "code",
     "collapsed": false,
     "input": [
      "news = pd.read_csv('data/cnn-pol.csv',index_col='twid')\n",
      "tweets = pd.read_csv('data/cnn-tweets.csv',index_col='twid')\n",
      "print('news fields:',news.columns.values)\n",
      "print('tweet fields:',tweets.columns.values)"
     ],
     "language": "python",
     "metadata": {},
     "outputs": [
      {
       "output_type": "stream",
       "stream": "stdout",
       "text": [
        "news fields: ['href' 'dt' 'title' 'newstxt' 'cat' 'polarity']\n",
        "tweet fields: ['tweep' 'twtext' 'fav' 'rt' 'url']\n"
       ]
      }
     ],
     "prompt_number": 61
    },
    {
     "cell_type": "code",
     "collapsed": false,
     "input": [
      "joined = tweets.join(news,how='inner')\n",
      "joined.shape"
     ],
     "language": "python",
     "metadata": {},
     "outputs": [],
     "prompt_number": 67
    },
    {
     "cell_type": "code",
     "collapsed": false,
     "input": [
      "joined.to_csv('data/cnn-joined.csv',encoding='utf-8',index=False)"
     ],
     "language": "python",
     "metadata": {},
     "outputs": [],
     "prompt_number": 70
    },
    {
     "cell_type": "code",
     "collapsed": false,
     "input": [
      "nytjoined['src']='NYT'"
     ],
     "language": "python",
     "metadata": {},
     "outputs": [],
     "prompt_number": 78
    },
    {
     "cell_type": "code",
     "collapsed": false,
     "input": [
      "joined['src']='CNN'"
     ],
     "language": "python",
     "metadata": {},
     "outputs": [],
     "prompt_number": 79
    },
    {
     "cell_type": "code",
     "collapsed": false,
     "input": [
      "alljoined = pd.concat([nytjoined,joined])"
     ],
     "language": "python",
     "metadata": {},
     "outputs": [],
     "prompt_number": 82
    },
    {
     "cell_type": "code",
     "collapsed": false,
     "input": [
      "joined.to_csv('data/all-joined.csv',encoding='utf-8',index=False)"
     ],
     "language": "python",
     "metadata": {},
     "outputs": [],
     "prompt_number": 84
    }
   ],
   "metadata": {}
  }
 ]
}